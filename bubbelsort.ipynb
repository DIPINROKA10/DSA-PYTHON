{
 "cells": [
  {
   "cell_type": "code",
   "execution_count": 5,
   "id": "756db3d3-34e9-44d8-b006-330932eceeef",
   "metadata": {},
   "outputs": [
    {
     "name": "stdin",
     "output_type": "stream",
     "text": [
      "Enter number of elements:  6\n",
      "Enter element:  3\n",
      "Enter element:  5\n",
      "Enter element:  6\n",
      "Enter element:  8\n",
      "Enter element:  90\n",
      "Enter element:  4\n"
     ]
    },
    {
     "name": "stdout",
     "output_type": "stream",
     "text": [
      "The sorted elements are:\n",
      "3 4 5 6 8 90\n"
     ]
    }
   ],
   "source": [
    "def bubble_sort(lst):\n",
    "    size = len(lst)\n",
    "    for i in range(size - 1):\n",
    "        swapped = False  # Optimization: Track if a swap happens\n",
    "        for j in range(size - 1 - i):  # Reduce unnecessary comparisons\n",
    "            if lst[j] > lst[j + 1]:  # Swap if needed\n",
    "                lst[j], lst[j + 1] = lst[j + 1], lst[j]\n",
    "                swapped = True\n",
    "        if not swapped:  # If no swaps in a pass, list is sorted\n",
    "            break\n",
    "\n",
    "# Taking user input\n",
    "n = int(input(\"Enter number of elements: \"))\n",
    "lst = [int(input(\"Enter element: \")) for _ in range(n)]\n",
    "\n",
    "# Sorting using Bubble Sort\n",
    "bubble_sort(lst)\n",
    "\n",
    "# Displaying sorted elements\n",
    "print(\"The sorted elements are:\")\n",
    "print(\" \".join(map(str, lst)))  # Cleaner output\n"
   ]
  },
  {
   "cell_type": "code",
   "execution_count": null,
   "id": "5954d854-1f94-44ec-afd3-c5ed4bc55a93",
   "metadata": {},
   "outputs": [],
   "source": []
  }
 ],
 "metadata": {
  "kernelspec": {
   "display_name": "Python 3 (ipykernel)",
   "language": "python",
   "name": "python3"
  },
  "language_info": {
   "codemirror_mode": {
    "name": "ipython",
    "version": 3
   },
   "file_extension": ".py",
   "mimetype": "text/x-python",
   "name": "python",
   "nbconvert_exporter": "python",
   "pygments_lexer": "ipython3",
   "version": "3.12.4"
  }
 },
 "nbformat": 4,
 "nbformat_minor": 5
}
