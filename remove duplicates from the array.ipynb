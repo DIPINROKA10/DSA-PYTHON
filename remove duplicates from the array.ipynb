{
 "cells": [
  {
   "cell_type": "code",
   "execution_count": 5,
   "id": "ca9c8e05-aca4-48dd-b6bb-59975843007f",
   "metadata": {},
   "outputs": [
    {
     "name": "stdout",
     "output_type": "stream",
     "text": [
      "[10]\n"
     ]
    }
   ],
   "source": [
    "#looping and membeship operators\n",
    "import numpy as np\n",
    "\n",
    "x= np.array([10,20,30,40,50,])\n",
    "def r_dup(x):\n",
    "   new_arr=[]\n",
    "   for i in x:\n",
    "     if i not in new_arr:\n",
    "        new_arr.append(i)\n",
    "     return np.array(new_arr)\n",
    "\n",
    "result=r_dup(x)\n",
    "type(result)"
   ]
  },
  {
   "cell_type": "code",
   "execution_count": null,
   "id": "5983dac0-dd97-4e59-a93b-dfd44fe32e6a",
   "metadata": {},
   "outputs": [],
   "source": [
    "import numpy as np\n",
    "\n",
    "x= np.array([10,20,30,40,50,])\n",
    "def r_dup(x):\n",
    "   ne\n",
    "\n",
    "result=r_dup(x)\n",
    "type(result)"
   ]
  },
  {
   "cell_type": "code",
   "execution_count": null,
   "id": "6fe4b3cf-aa39-43c4-b19c-675ad67911d4",
   "metadata": {},
   "outputs": [],
   "source": []
  }
 ],
 "metadata": {
  "kernelspec": {
   "display_name": "Python 3 (ipykernel)",
   "language": "python",
   "name": "python3"
  },
  "language_info": {
   "codemirror_mode": {
    "name": "ipython",
    "version": 3
   },
   "file_extension": ".py",
   "mimetype": "text/x-python",
   "name": "python",
   "nbconvert_exporter": "python",
   "pygments_lexer": "ipython3",
   "version": "3.12.4"
  }
 },
 "nbformat": 4,
 "nbformat_minor": 5
}
