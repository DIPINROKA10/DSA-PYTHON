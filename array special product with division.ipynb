{
 "cells": [
  {
   "cell_type": "code",
   "execution_count": 1,
   "id": "2cfd1d4c-7d47-4e14-8f1a-c432466f4de9",
   "metadata": {},
   "outputs": [
    {
     "name": "stdout",
     "output_type": "stream",
     "text": [
      "orignal array :  [10 20 30 40 50]\n"
     ]
    },
    {
     "ename": "NameError",
     "evalue": "name 'pro_ExceptSelf_div' is not defined",
     "output_type": "error",
     "traceback": [
      "\u001b[1;31m---------------------------------------------------------------------------\u001b[0m",
      "\u001b[1;31mNameError\u001b[0m                                 Traceback (most recent call last)",
      "Cell \u001b[1;32mIn[1], line 12\u001b[0m\n\u001b[0;32m     10\u001b[0m     \u001b[38;5;28;01mreturn\u001b[39;00m prod_arr\n\u001b[0;32m     11\u001b[0m \u001b[38;5;28mprint\u001b[39m(\u001b[38;5;124m\"\u001b[39m\u001b[38;5;124morignal array : \u001b[39m\u001b[38;5;124m\"\u001b[39m,x)\n\u001b[1;32m---> 12\u001b[0m result \u001b[38;5;241m=\u001b[39m \u001b[43mpro_ExceptSelf_div\u001b[49m(x)\n\u001b[0;32m     13\u001b[0m \u001b[38;5;28mprint\u001b[39m(\u001b[38;5;124m\"\u001b[39m\u001b[38;5;124mproduct array:\u001b[39m\u001b[38;5;124m\"\u001b[39m,result)\n",
      "\u001b[1;31mNameError\u001b[0m: name 'pro_ExceptSelf_div' is not defined"
     ]
    }
   ],
   "source": [
    "#array special project with division \n",
    "import numpy as np\n",
    "import math\n",
    "\n",
    "x = np.array([10,20,30,40,50])\n",
    "def pro_ExceptSelf(x):\n",
    "    total_product = math.prod(x)\n",
    "    prod_arr = []\n",
    "    for i in x:\n",
    "        prod_arr.append(total_product//i)\n",
    "    return prod_arr\n",
    "print(\"orignal array : \",x)\n",
    "result = pro_ExceptSelf_div(x)\n",
    "print(\"product array:\",result)"
   ]
  },
  {
   "cell_type": "code",
   "execution_count": null,
   "id": "3a7bee0c-e28e-4e0d-b8be-4f2b5c87b513",
   "metadata": {},
   "outputs": [],
   "source": []
  }
 ],
 "metadata": {
  "kernelspec": {
   "display_name": "Python 3 (ipykernel)",
   "language": "python",
   "name": "python3"
  },
  "language_info": {
   "codemirror_mode": {
    "name": "ipython",
    "version": 3
   },
   "file_extension": ".py",
   "mimetype": "text/x-python",
   "name": "python",
   "nbconvert_exporter": "python",
   "pygments_lexer": "ipython3",
   "version": "3.12.4"
  }
 },
 "nbformat": 4,
 "nbformat_minor": 5
}
