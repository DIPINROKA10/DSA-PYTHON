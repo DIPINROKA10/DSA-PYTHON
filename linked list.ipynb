{
 "cells": [
  {
   "cell_type": "code",
   "execution_count": 10,
   "id": "7031a5bc-07ed-41ed-9951-a2074e6ddf83",
   "metadata": {},
   "outputs": [
    {
     "name": "stdout",
     "output_type": "stream",
     "text": [
      "1 --> 2 --> 3 --> 4 --> None\n"
     ]
    }
   ],
   "source": [
    "# Node class to create linked list nodes\n",
    "class Node:\n",
    "    def __init__(self, data):  # Fixed constructor\n",
    "        self.data = data\n",
    "        self.next = None  # Reference to the next node\n",
    "\n",
    "# Linked List class\n",
    "class LinkedList:\n",
    "    def __init__(self):  # Fixed constructor\n",
    "        self.head = None  # Initialize head as None\n",
    "\n",
    "    # Method to append a new node at the end\n",
    "    def append(self, data):\n",
    "        new_node = Node(data)\n",
    "        if not self.head:  # If the list is empty, set new node as head\n",
    "            self.head = new_node\n",
    "            return\n",
    "        \n",
    "        last = self.head  # Start from head\n",
    "        while last.next:  # Traverse to the last node\n",
    "            last = last.next\n",
    "        last.next = new_node  # Link new node to the last node\n",
    "\n",
    "    # Method to print the linked list\n",
    "    def print_list(self):\n",
    "        temp = self.head\n",
    "        while temp:\n",
    "            print(temp.data, end=\" --> \")\n",
    "            temp = temp.next\n",
    "        print(\"None\")  # End of the linked list\n",
    "\n",
    "# Creating a linked list and adding elements\n",
    "linked_list = LinkedList()\n",
    "linked_list.append(1)\n",
    "linked_list.append(2)\n",
    "linked_list.append(3)\n",
    "linked_list.append(4)\n",
    "\n",
    "# Printing the linked list\n",
    "linked_list.print_list()\n"
   ]
  },
  {
   "cell_type": "code",
   "execution_count": 10,
   "id": "87728ca8-8cbc-45ab-9af2-74ac384f2454",
   "metadata": {},
   "outputs": [
    {
     "name": "stdout",
     "output_type": "stream",
     "text": [
      "Original List:\n",
      "1 -> 2 -> 3 -> 4 -> None\n",
      "List After Deletion of 3:\n",
      "1 -> 2 -> 4 -> None\n",
      "Node with data 5 not found.\n"
     ]
    }
   ],
   "source": [
    "# Define a class for the Node\n",
    "class Node:\n",
    "    def __init__(self, data):\n",
    "        self.data = data  # data in the node\n",
    "        self.next = None  # pointer to the next node\n",
    "\n",
    "# Define a class for the LinkedList\n",
    "class LinkedList:\n",
    "    def __init__(self):\n",
    "        self.head = None  # initially, the list is empty\n",
    "\n",
    "    # Add a new node at the end\n",
    "    def append(self, data):\n",
    "        new_node = Node(data)\n",
    "        if not self.head:  # If the list is empty\n",
    "            self.head = new_node\n",
    "            return\n",
    "        last = self.head\n",
    "        while last.next:  # Traverse to the last node\n",
    "            last = last.next\n",
    "        last.next = new_node  # Update the next of the last node to the new node\n",
    "\n",
    "    # Delete a node by value\n",
    "    def delete(self, key):\n",
    "        # If the list is empty\n",
    "        if not self.head:\n",
    "            print(\"List is empty\")\n",
    "            return\n",
    "\n",
    "        # If the head node itself holds the key to be deleted\n",
    "        if self.head.data == key:\n",
    "            self.head = self.head.next\n",
    "            return\n",
    "\n",
    "        # Search for the key to be deleted\n",
    "        current = self.head\n",
    "        while current.next:\n",
    "            if current.next.data == key:\n",
    "                current.next = current.next.next\n",
    "                return\n",
    "            current = current.next\n",
    "\n",
    "        print(f\"Node with data {key} not found.\")\n",
    "\n",
    "    # Print the linked list\n",
    "    def print_list(self):\n",
    "        temp = self.head\n",
    "        while temp:  # Traverse through the list\n",
    "            print(temp.data, end=\" -> \")\n",
    "            temp = temp.next\n",
    "        print(\"None\")\n",
    "\n",
    "# Create a LinkedList and perform operations\n",
    "linked_list = LinkedList()\n",
    "linked_list.append(1)\n",
    "linked_list.append(2)\n",
    "linked_list.append(3)\n",
    "linked_list.append(4)\n",
    "\n",
    "# Print the linked list before deletion\n",
    "print(\"Original List:\")\n",
    "linked_list.print_list()\n",
    "\n",
    "# Delete a node (e.g., node with value 3)\n",
    "linked_list.delete(3)\n",
    "\n",
    "# Print the linked list after deletion\n",
    "print(\"List After Deletion of 3:\")\n",
    "linked_list.print_list()\n",
    "\n",
    "# Attempting to delete a node that doesn't exist\n",
    "linked_list.delete(5)"
   ]
  },
  {
   "cell_type": "code",
   "execution_count": null,
   "id": "a5205548-9f29-421e-8518-bca95861a8aa",
   "metadata": {},
   "outputs": [],
   "source": []
  },
  {
   "cell_type": "code",
   "execution_count": null,
   "id": "d7311a85-65f2-4bbe-a6d8-97f0c5165e36",
   "metadata": {},
   "outputs": [],
   "source": []
  },
  {
   "cell_type": "code",
   "execution_count": null,
   "id": "f08ab71c-b7c2-4fee-8b77-2ad25e07b248",
   "metadata": {},
   "outputs": [],
   "source": []
  },
  {
   "cell_type": "code",
   "execution_count": null,
   "id": "80820ef4-2de2-44ee-92a0-b28640ac9810",
   "metadata": {},
   "outputs": [],
   "source": []
  },
  {
   "cell_type": "code",
   "execution_count": null,
   "id": "e7c4e335-f154-45e2-8700-c39a9bc9901b",
   "metadata": {},
   "outputs": [],
   "source": []
  }
 ],
 "metadata": {
  "kernelspec": {
   "display_name": "Python 3 (ipykernel)",
   "language": "python",
   "name": "python3"
  },
  "language_info": {
   "codemirror_mode": {
    "name": "ipython",
    "version": 3
   },
   "file_extension": ".py",
   "mimetype": "text/x-python",
   "name": "python",
   "nbconvert_exporter": "python",
   "pygments_lexer": "ipython3",
   "version": "3.12.4"
  }
 },
 "nbformat": 4,
 "nbformat_minor": 5
}
