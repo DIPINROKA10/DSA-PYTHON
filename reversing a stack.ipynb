{
 "cells": [
  {
   "cell_type": "code",
   "execution_count": 2,
   "id": "5bb92dd4-5b68-49f0-8c60-d357211d4bdc",
   "metadata": {},
   "outputs": [
    {
     "name": "stdout",
     "output_type": "stream",
     "text": [
      "Original Stack: [3, 1, 4, 2]\n",
      "Reversed Stack: [2, 4, 1, 3]\n"
     ]
    }
   ],
   "source": [
    "class Stack:\n",
    "    def __init__(self):\n",
    "        self.stack = []\n",
    "\n",
    "    def push(self, item):\n",
    "        self.stack.append(item)\n",
    "\n",
    "    def pop(self):\n",
    "        if not self.is_empty():\n",
    "            return self.stack.pop()\n",
    "        return None\n",
    "\n",
    "    def is_empty(self):\n",
    "        return len(self.stack) == 0\n",
    "\n",
    "    def reverse_stack(self):\n",
    "        if not self.is_empty():\n",
    "            temp = self.pop()\n",
    "            self.reverse_stack()\n",
    "            self.insert_at_bottom(temp)\n",
    "\n",
    "    def insert_at_bottom(self, item):\n",
    "        if self.is_empty():\n",
    "            self.push(item)\n",
    "        else:\n",
    "            temp = self.pop()\n",
    "            self.insert_at_bottom(item)\n",
    "            self.push(temp)\n",
    "\n",
    "# Example usage\n",
    "stack = Stack()\n",
    "stack.push(3)\n",
    "stack.push(1)\n",
    "stack.push(4)\n",
    "stack.push(2)\n",
    "\n",
    "print(\"Original Stack:\", stack.stack)\n",
    "stack.reverse_stack()\n",
    "print(\"Reversed Stack:\", stack.stack)\n"
   ]
  },
  {
   "cell_type": "code",
   "execution_count": null,
   "id": "b128f41c-bf00-46bc-a973-d237979b39ee",
   "metadata": {},
   "outputs": [],
   "source": []
  }
 ],
 "metadata": {
  "kernelspec": {
   "display_name": "Python 3 (ipykernel)",
   "language": "python",
   "name": "python3"
  },
  "language_info": {
   "codemirror_mode": {
    "name": "ipython",
    "version": 3
   },
   "file_extension": ".py",
   "mimetype": "text/x-python",
   "name": "python",
   "nbconvert_exporter": "python",
   "pygments_lexer": "ipython3",
   "version": "3.12.4"
  }
 },
 "nbformat": 4,
 "nbformat_minor": 5
}
