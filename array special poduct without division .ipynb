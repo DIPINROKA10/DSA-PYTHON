{
 "cells": [
  {
   "cell_type": "code",
   "execution_count": 5,
   "id": "3a6209d2-3bd9-4e06-a107-16dd2a2bbc57",
   "metadata": {},
   "outputs": [
    {
     "name": "stdout",
     "output_type": "stream",
     "text": [
      "[1200000, 600000, 400000, 300000, 240000]\n"
     ]
    }
   ],
   "source": [
    "#array special project without division \n",
    "import numpy as np\n",
    "x = np.array([10,20,30,40,50])\n",
    "def pro_ExceptSelf(x):\n",
    "    n=len(x)\n",
    "    res =[1]*n\n",
    "    for i in range (n):\n",
    "        for j in range(n):\n",
    "            if i != j:\n",
    "                res[i] *= x[j]\n",
    "    return res\n",
    "result = pro_ExceptSelf(x)\n",
    "print(result)"
   ]
  },
  {
   "cell_type": "code",
   "execution_count": null,
   "id": "4ca14d34-9413-4966-9068-ebfe2ed07a73",
   "metadata": {},
   "outputs": [],
   "source": []
  }
 ],
 "metadata": {
  "kernelspec": {
   "display_name": "Python 3 (ipykernel)",
   "language": "python",
   "name": "python3"
  },
  "language_info": {
   "codemirror_mode": {
    "name": "ipython",
    "version": 3
   },
   "file_extension": ".py",
   "mimetype": "text/x-python",
   "name": "python",
   "nbconvert_exporter": "python",
   "pygments_lexer": "ipython3",
   "version": "3.12.4"
  }
 },
 "nbformat": 4,
 "nbformat_minor": 5
}
