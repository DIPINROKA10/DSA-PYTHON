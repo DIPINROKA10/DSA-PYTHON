{
 "cells": [
  {
   "cell_type": "code",
   "execution_count": 1,
   "id": "e9c7e0ae-6d52-4fe0-80a3-80126eb79a13",
   "metadata": {},
   "outputs": [
    {
     "name": "stdin",
     "output_type": "stream",
     "text": [
      "Enter number of elements:  3\n",
      "Enter element:  3\n",
      "Enter element:  4\n",
      "Enter element:  5\n"
     ]
    },
    {
     "name": "stdout",
     "output_type": "stream",
     "text": [
      "The sorted elements are:\n",
      "3 4 5\n"
     ]
    }
   ],
   "source": [
    "def selection_sort(lst):\n",
    "    size = len(lst)\n",
    "    for i in range(size - 1):\n",
    "        posn = i  # Assume the first element is the smallest\n",
    "        for j in range(i + 1, size):\n",
    "            if lst[j] < lst[posn]:  # Find the smallest element\n",
    "                posn = j\n",
    "\n",
    "        if i != posn:  # Swap only if necessary\n",
    "            lst[i], lst[posn] = lst[posn], lst[i]\n",
    "\n",
    "# Taking input\n",
    "n = int(input(\"Enter number of elements: \"))\n",
    "lst = [int(input(\"Enter element: \")) for _ in range(n)]\n",
    "\n",
    "# Sorting using Selection Sort\n",
    "selection_sort(lst)\n",
    "\n",
    "# Displaying sorted elements\n",
    "print(\"The sorted elements are:\")\n",
    "print(\" \".join(map(str, lst)))\n"
   ]
  },
  {
   "cell_type": "code",
   "execution_count": null,
   "id": "0473c43b-bbdd-413d-a2c4-0f2b813a442b",
   "metadata": {},
   "outputs": [],
   "source": []
  }
 ],
 "metadata": {
  "kernelspec": {
   "display_name": "Python 3 (ipykernel)",
   "language": "python",
   "name": "python3"
  },
  "language_info": {
   "codemirror_mode": {
    "name": "ipython",
    "version": 3
   },
   "file_extension": ".py",
   "mimetype": "text/x-python",
   "name": "python",
   "nbconvert_exporter": "python",
   "pygments_lexer": "ipython3",
   "version": "3.12.4"
  }
 },
 "nbformat": 4,
 "nbformat_minor": 5
}
