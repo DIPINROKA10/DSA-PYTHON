{
 "cells": [
  {
   "cell_type": "code",
   "execution_count": 5,
   "id": "093e9aa3-f8c8-4b76-be05-3d8996f8c907",
   "metadata": {},
   "outputs": [],
   "source": [
    "# Q2: Reverse a String\n",
    "\n",
    "\n",
    "\n",
    "class Stack:\n",
    "    def __init__(self):\n",
    "        self.stack = []\n",
    "    \n",
    "    def push(self, item):\n",
    "        self.stack.append(item)\n",
    "    \n",
    "    def pop(self):\n",
    "        if not self.is_empty():\n",
    "            return self.stack.pop()\n",
    "        return None\n",
    "    \n",
    "    def peek(self):\n",
    "        if not self.is_empty():\n",
    "            return self.stack[-1]\n",
    "        return None\n",
    "    \n",
    "    def is_empty(self):\n",
    "        return len(self.stack) == 0\n",
    "\n",
    "\n",
    "\n",
    "def reverse_string(s):\n",
    "    stack = Stack()\n",
    "    for char in s:\n",
    "        stack.push(char)\n",
    "    \n",
    "    reversed_str = \"\"\n",
    "    while not stack.is_empty():\n",
    "        reversed_str += stack.pop()\n",
    "    \n",
    "    return reversed_str"
   ]
  },
  {
   "cell_type": "code",
   "execution_count": 7,
   "id": "6e04418f-7251-4f95-b2b7-0ad113629f88",
   "metadata": {},
   "outputs": [
    {
     "name": "stdout",
     "output_type": "stream",
     "text": [
      "Reversed String: tibbaR\n"
     ]
    }
   ],
   "source": [
    "x = \"Rabbit\"\n",
    "print(\"Reversed String:\", reverse_string(x))\n"
   ]
  },
  {
   "cell_type": "code",
   "execution_count": null,
   "id": "e6d82a12-3724-4831-a26d-c1c7a62ba2fc",
   "metadata": {},
   "outputs": [],
   "source": []
  }
 ],
 "metadata": {
  "kernelspec": {
   "display_name": "Python 3 (ipykernel)",
   "language": "python",
   "name": "python3"
  },
  "language_info": {
   "codemirror_mode": {
    "name": "ipython",
    "version": 3
   },
   "file_extension": ".py",
   "mimetype": "text/x-python",
   "name": "python",
   "nbconvert_exporter": "python",
   "pygments_lexer": "ipython3",
   "version": "3.12.4"
  }
 },
 "nbformat": 4,
 "nbformat_minor": 5
}
