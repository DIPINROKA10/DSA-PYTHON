{
 "cells": [
  {
   "cell_type": "code",
   "execution_count": 13,
   "id": "2d2bde15-9686-45c7-aa8c-d8a493d4d823",
   "metadata": {},
   "outputs": [
    {
     "name": "stdin",
     "output_type": "stream",
     "text": [
      "Enter an expression:  (a*b)+(a+b)\n"
     ]
    },
    {
     "name": "stdout",
     "output_type": "stream",
     "text": [
      "Expression is well-parenthesized\n"
     ]
    },
    {
     "data": {
      "text/plain": [
       "True"
      ]
     },
     "execution_count": 13,
     "metadata": {},
     "output_type": "execute_result"
    }
   ],
   "source": [
    "class Node:\n",
    "    \"\"\"Node structure for Linked List\"\"\"\n",
    "    def __init__(self, data):\n",
    "        self.data = data\n",
    "        self.next = None  # Pointer to next node\n",
    "\n",
    "class Stack:\n",
    "    \"\"\"Stack implementation using Linked List\"\"\"\n",
    "    def __init__(self):\n",
    "        self.top = None  # Top of stack\n",
    "\n",
    "    def is_empty(self):\n",
    "        return self.top is None  # True if stack is empty\n",
    "\n",
    "    def push(self, data):\n",
    "        \"\"\"Push an element onto the stack\"\"\"\n",
    "        new_node = Node(data)\n",
    "        new_node.next = self.top  # New node points to the old top\n",
    "        self.top = new_node  # New node becomes the top\n",
    "\n",
    "    def pop(self):\n",
    "        \"\"\"Remove and return the top element\"\"\"\n",
    "        if self.is_empty():\n",
    "            return None  # Return None if stack is empty\n",
    "        popped_data = self.top.data\n",
    "        self.top = self.top.next  # Move top pointer to the next node\n",
    "        return popped_data\n",
    "\n",
    "    def peek(self):\n",
    "        \"\"\"Return the top element without removing it\"\"\"\n",
    "        if self.is_empty():\n",
    "            return None\n",
    "        return self.top.data\n",
    "\n",
    "    def display(self):\n",
    "        \"\"\"Display the stack elements\"\"\"\n",
    "        if self.is_empty():\n",
    "            print(\"Stack is empty!\")\n",
    "            return\n",
    "        current = self.top\n",
    "        while current:\n",
    "            print(current.data, end=\" -> \")\n",
    "            current = current.next\n",
    "        print(\"None\")\n",
    "\n",
    "def get_match(ch):\n",
    "    \"\"\"Returns the matching opening bracket for a closing one\"\"\"\n",
    "    if ch == \")\":\n",
    "        return \"(\"\n",
    "    elif ch == \"}\":\n",
    "        return \"{\"\n",
    "    elif ch == \"]\":\n",
    "        return \"[\"\n",
    "    return None  # Invalid character case\n",
    "\n",
    "def chk_paranthesis(expr):\n",
    "    \"\"\"Check if the expression has balanced parentheses\"\"\"\n",
    "    st = Stack()  # Stack for storing opening brackets\n",
    "\n",
    "    for ch in expr:\n",
    "        # Manually check if ch is an opening bracket\n",
    "        if ch == \"(\" or ch == \"{\" or ch == \"[\":\n",
    "            st.push(ch)\n",
    "        elif ch == \")\" or ch == \"}\" or ch == \"]\":\n",
    "            if st.is_empty():\n",
    "                print(\"No matching opening parenthesis!\")\n",
    "                return False  # Unmatched closing bracket\n",
    "            \n",
    "            top_char = st.pop()  # Get the top element\n",
    "            if top_char != get_match(ch):  # Compare with expected opening bracket\n",
    "                print(\"Mismatched parentheses!\")\n",
    "                return False  # Mismatch found\n",
    "    \n",
    "    if not st.is_empty():\n",
    "        print(\"No matching closing parenthesis!\")\n",
    "        return False  # Unmatched opening brackets\n",
    "    \n",
    "    print(\"Expression is well-parenthesized\")\n",
    "    return True\n",
    "\n",
    "# Example usage\n",
    "exp = input(\"Enter an expression: \")\n",
    "chk_paranthesis(exp)\n"
   ]
  },
  {
   "cell_type": "code",
   "execution_count": 11,
   "id": "802ae3f0-a11f-47c5-85e3-5c9de0e0b495",
   "metadata": {},
   "outputs": [
    {
     "ename": "SyntaxError",
     "evalue": "invalid syntax (1250871194.py, line 54)",
     "output_type": "error",
     "traceback": [
      "\u001b[1;36m  Cell \u001b[1;32mIn[11], line 54\u001b[1;36m\u001b[0m\n\u001b[1;33m    if st.is_empty() or st.pop() != match i\u001b[0m\n\u001b[1;37m                                          ^\u001b[0m\n\u001b[1;31mSyntaxError\u001b[0m\u001b[1;31m:\u001b[0m invalid syntax\n"
     ]
    }
   ],
   "source": []
  },
  {
   "cell_type": "code",
   "execution_count": null,
   "id": "d2e833e7-dee8-4dcb-9d99-9832fade160b",
   "metadata": {},
   "outputs": [],
   "source": []
  }
 ],
 "metadata": {
  "kernelspec": {
   "display_name": "Python 3 (ipykernel)",
   "language": "python",
   "name": "python3"
  },
  "language_info": {
   "codemirror_mode": {
    "name": "ipython",
    "version": 3
   },
   "file_extension": ".py",
   "mimetype": "text/x-python",
   "name": "python",
   "nbconvert_exporter": "python",
   "pygments_lexer": "ipython3",
   "version": "3.12.4"
  }
 },
 "nbformat": 4,
 "nbformat_minor": 5
}
