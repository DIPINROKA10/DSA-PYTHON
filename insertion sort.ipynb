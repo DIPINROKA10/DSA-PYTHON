{
 "cells": [
  {
   "cell_type": "code",
   "execution_count": 1,
   "id": "05d3795c-ccdb-460f-816d-444bbe988753",
   "metadata": {},
   "outputs": [
    {
     "name": "stdin",
     "output_type": "stream",
     "text": [
      "Enter number of elements:  5\n",
      "Enter element:  4\n",
      "Enter element:  5\n",
      "Enter element:  6\n",
      "Enter element:  7\n",
      "Enter element:  8\n"
     ]
    },
    {
     "name": "stdout",
     "output_type": "stream",
     "text": [
      "The sorted elements are:\n",
      "4 5 6 7 8\n"
     ]
    }
   ],
   "source": [
    "def insertion_sort(lst):\n",
    "    size = len(lst)\n",
    "    for i in range(1, size):\n",
    "        temp = lst[i]\n",
    "        j = i - 1\n",
    "\n",
    "        while j >= 0 and lst[j] > temp:  # Corrected condition\n",
    "            lst[j + 1] = lst[j]  # Shift element\n",
    "            j -= 1\n",
    "\n",
    "        lst[j + 1] = temp  # Place the temp element in the correct position\n",
    "\n",
    "# Taking input\n",
    "n = int(input(\"Enter number of elements: \"))\n",
    "lst = [int(input(\"Enter element: \")) for _ in range(n)]\n",
    "\n",
    "# Sorting using Insertion Sort\n",
    "insertion_sort(lst)\n",
    "\n",
    "# Displaying sorted elements\n",
    "print(\"The sorted elements are:\")\n",
    "print(\" \".join(map(str, lst)))  # More readable output\n"
   ]
  },
  {
   "cell_type": "code",
   "execution_count": null,
   "id": "6b01ca0e-d527-4dc1-b182-6ae4ec79b44b",
   "metadata": {},
   "outputs": [],
   "source": []
  }
 ],
 "metadata": {
  "kernelspec": {
   "display_name": "Python 3 (ipykernel)",
   "language": "python",
   "name": "python3"
  },
  "language_info": {
   "codemirror_mode": {
    "name": "ipython",
    "version": 3
   },
   "file_extension": ".py",
   "mimetype": "text/x-python",
   "name": "python",
   "nbconvert_exporter": "python",
   "pygments_lexer": "ipython3",
   "version": "3.12.4"
  }
 },
 "nbformat": 4,
 "nbformat_minor": 5
}
