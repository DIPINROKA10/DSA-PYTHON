{
 "cells": [
  {
   "cell_type": "code",
   "execution_count": 1,
   "id": "a85cc076-0ee6-4af1-83f4-e68c5b51728f",
   "metadata": {},
   "outputs": [
    {
     "name": "stdout",
     "output_type": "stream",
     "text": [
      "[[ 300  360  420]\n",
      " [ 660  810  960]\n",
      " [1020 1260 1500]]\n"
     ]
    }
   ],
   "source": [
    "\n",
    "\n",
    "import numpy as np\n",
    "\n",
    "x1 = np.array([[1, 2, 3], [4, 5, 6], [7, 8, 9]])\n",
    "x2 = np.array([[10, 20, 30], [40, 50, 60], [70, 80, 90]])\n",
    "result = np.dot(x1,x2)\n",
    "print(result)"
   ]
  },
  {
   "cell_type": "code",
   "execution_count": 3,
   "id": "e16c0650-2573-46e1-a57b-b1ec2fa850fa",
   "metadata": {},
   "outputs": [
    {
     "name": "stdout",
     "output_type": "stream",
     "text": [
      "[300, 360, 420]\n",
      "[660, 810, 960]\n",
      "[1020, 1260, 1500]\n"
     ]
    }
   ],
   "source": [
    "import numpy as np\n",
    "\n",
    "x1 = np.array([[1, 2, 3], [4, 5, 6], [7, 8, 9]])\n",
    "x2 = np.array([[10, 20, 30], [40, 50, 60], [70, 80, 90]])\n",
    "\n",
    "# Initialize result matrix with zeros\n",
    "result = [[0 for _ in range(len(x2[0]))] for _ in range(len(x1))]\n",
    "\n",
    "# Perform matrix multiplication manually\n",
    "for i in range(len(x1)):  # Rows of x1\n",
    "    for j in range(len(x2[0])):  # Columns of x2\n",
    "        for k in range(len(x2)):  # Common dimension\n",
    "            result[i][j] += x1[i][k] * x2[k][j]\n",
    "\n",
    "# Print the result\n",
    "for row in result:\n",
    "    print(row)\n"
   ]
  },
  {
   "cell_type": "code",
   "execution_count": 9,
   "id": "fad0517f-8da4-4e7a-859a-0ec4ae7087ad",
   "metadata": {},
   "outputs": [
    {
     "data": {
      "text/plain": [
       "array([[1, 4],\n",
       "       [2, 5],\n",
       "       [3, 6]])"
      ]
     },
     "execution_count": 9,
     "metadata": {},
     "output_type": "execute_result"
    }
   ],
   "source": [
    "import numpy as np\n",
    "\n",
    "x1 = np.array([[1, 2, 3], [4, 5, 6]])\n",
    "\n",
    "result= np.transpose(x1)\n",
    "result"
   ]
  },
  {
   "cell_type": "code",
   "execution_count": null,
   "id": "802242f0-7992-49cc-bda5-d031e421f183",
   "metadata": {},
   "outputs": [],
   "source": []
  }
 ],
 "metadata": {
  "kernelspec": {
   "display_name": "Python 3 (ipykernel)",
   "language": "python",
   "name": "python3"
  },
  "language_info": {
   "codemirror_mode": {
    "name": "ipython",
    "version": 3
   },
   "file_extension": ".py",
   "mimetype": "text/x-python",
   "name": "python",
   "nbconvert_exporter": "python",
   "pygments_lexer": "ipython3",
   "version": "3.12.4"
  }
 },
 "nbformat": 4,
 "nbformat_minor": 5
}
