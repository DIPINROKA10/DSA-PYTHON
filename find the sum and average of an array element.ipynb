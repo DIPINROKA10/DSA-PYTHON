{
 "cells": [
  {
   "cell_type": "code",
   "execution_count": 1,
   "id": "931588fe-5b0a-46d8-9015-897e7b4ff0f8",
   "metadata": {},
   "outputs": [],
   "source": [
    "import numpy as np"
   ]
  },
  {
   "cell_type": "code",
   "execution_count": 5,
   "id": "b6438a70-4bb7-43c7-a341-68a27458d318",
   "metadata": {},
   "outputs": [
    {
     "ename": "NameError",
     "evalue": "name 'add_all' is not defined",
     "output_type": "error",
     "traceback": [
      "\u001b[1;31m---------------------------------------------------------------------------\u001b[0m",
      "\u001b[1;31mNameError\u001b[0m                                 Traceback (most recent call last)",
      "Cell \u001b[1;32mIn[5], line 7\u001b[0m\n\u001b[0;32m      5\u001b[0m     average\u001b[38;5;241m=\u001b[39m add_all \u001b[38;5;241m/\u001b[39m l\n\u001b[0;32m      6\u001b[0m     \u001b[38;5;28;01mreturn\u001b[39;00m average\n\u001b[1;32m----> 7\u001b[0m result\u001b[38;5;241m=\u001b[39m \u001b[43mavg\u001b[49m\u001b[43m(\u001b[49m\u001b[43mx\u001b[49m\u001b[43m)\u001b[49m\n\u001b[0;32m      8\u001b[0m \u001b[38;5;28mprint\u001b[39m(result)\n",
      "Cell \u001b[1;32mIn[5], line 4\u001b[0m, in \u001b[0;36mavg\u001b[1;34m(x)\u001b[0m\n\u001b[0;32m      2\u001b[0m \u001b[38;5;28;01mdef\u001b[39;00m \u001b[38;5;21mavg\u001b[39m(x):\n\u001b[0;32m      3\u001b[0m     l\u001b[38;5;241m=\u001b[39m\u001b[38;5;28mlen\u001b[39m(x)\n\u001b[1;32m----> 4\u001b[0m     \u001b[43madd_all\u001b[49m\u001b[38;5;241m+\u001b[39m \u001b[38;5;28msum\u001b[39m(x)\n\u001b[0;32m      5\u001b[0m     average\u001b[38;5;241m=\u001b[39m add_all \u001b[38;5;241m/\u001b[39m l\n\u001b[0;32m      6\u001b[0m     \u001b[38;5;28;01mreturn\u001b[39;00m average\n",
      "\u001b[1;31mNameError\u001b[0m: name 'add_all' is not defined"
     ]
    }
   ],
   "source": [
    "x = np.array([10,20,30,40,50])\n",
    "def avg(x):\n",
    "    l=len(x)\n",
    "    add_all+ sum(x)\n",
    "    average= add_all / l\n",
    "    return average\n",
    "result= avg(x)\n",
    "print(result)"
   ]
  },
  {
   "cell_type": "code",
   "execution_count": null,
   "id": "4a0e3146-f1d5-4a81-be54-026727ff9f6f",
   "metadata": {},
   "outputs": [],
   "source": []
  }
 ],
 "metadata": {
  "kernelspec": {
   "display_name": "Python 3 (ipykernel)",
   "language": "python",
   "name": "python3"
  },
  "language_info": {
   "codemirror_mode": {
    "name": "ipython",
    "version": 3
   },
   "file_extension": ".py",
   "mimetype": "text/x-python",
   "name": "python",
   "nbconvert_exporter": "python",
   "pygments_lexer": "ipython3",
   "version": "3.12.4"
  }
 },
 "nbformat": 4,
 "nbformat_minor": 5
}
