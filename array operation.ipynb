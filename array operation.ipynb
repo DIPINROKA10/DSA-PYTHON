{
 "cells": [
  {
   "cell_type": "code",
   "execution_count": 3,
   "id": "48cc030e-4e81-4973-8c12-dc961b9d64f0",
   "metadata": {},
   "outputs": [],
   "source": [
    "#numpy library\n",
    "import numpy as np"
   ]
  },
  {
   "cell_type": "code",
   "execution_count": 41,
   "id": "b7725efc-fb49-45d6-8732-db03ca132842",
   "metadata": {},
   "outputs": [
    {
     "name": "stdout",
     "output_type": "stream",
     "text": [
      "10   20   30   40   50   "
     ]
    }
   ],
   "source": [
    "y= np.array([10,20,30,40,50,])\n",
    "for i in y:\n",
    "    print(i,end=\"   \")"
   ]
  },
  {
   "cell_type": "code",
   "execution_count": 23,
   "id": "911ea3ba-ff47-46e6-b2f4-056796ecb138",
   "metadata": {},
   "outputs": [
    {
     "name": "stdout",
     "output_type": "stream",
     "text": [
      "10\n",
      "20\n",
      "30\n",
      "40\n"
     ]
    }
   ],
   "source": [
    "#acessing elements using numpy library\n",
    "y= np.array([10,20,30,40,50,])\n",
    "print(y[0]) #acessing the elements\n",
    "print(y[1])\n",
    "print(y[2])\n",
    "print(y[3])"
   ]
  },
  {
   "cell_type": "code",
   "execution_count": 47,
   "id": "9ace8ed6-1584-426d-9384-2ab550f0a59e",
   "metadata": {},
   "outputs": [],
   "source": [
    "#how to insert the operation\n",
    "import numpy as np\n"
   ]
  },
  {
   "cell_type": "code",
   "execution_count": 51,
   "id": "bbfa1999-12f4-4177-9c4d-7274b64feff0",
   "metadata": {},
   "outputs": [
    {
     "name": "stdout",
     "output_type": "stream",
     "text": [
      "[10 20 80 30 40 50]\n"
     ]
    }
   ],
   "source": [
    "y= np.array([10,20,30,40,50,])\n",
    "z=np.insert(y,2,80)    #(variable name,indexposition, element)\n",
    "print(z)\n"
   ]
  },
  {
   "cell_type": "code",
   "execution_count": 71,
   "id": "e78256d4-90fa-47df-951c-668bde5c452c",
   "metadata": {},
   "outputs": [
    {
     "name": "stdout",
     "output_type": "stream",
     "text": [
      "array('i', [10, 20, 30, 500])\n"
     ]
    }
   ],
   "source": [
    "import array as arr\n",
    "y = arr.array(\"i\",[10,20,30,40,500])\n",
    "y.remove(40)                  #remove operation\n",
    "print(x)"
   ]
  },
  {
   "cell_type": "code",
   "execution_count": 73,
   "id": "d53c7c32-44f3-48d3-8bd9-1840902d6bbe",
   "metadata": {},
   "outputs": [],
   "source": [
    "#find the largest and the smallest element\n",
    "import numpy as np"
   ]
  },
  {
   "cell_type": "code",
   "execution_count": 85,
   "id": "ba4562c0-d252-4ccf-ad4b-a63101d978e4",
   "metadata": {},
   "outputs": [
    {
     "name": "stdout",
     "output_type": "stream",
     "text": [
      "(10, 500)\n"
     ]
    }
   ],
   "source": [
    "y= np.array([10,20,30,40,50,])\n",
    "def min_max(x):\n",
    "    min_e=np.min(x)\n",
    "    max_e=np.max(x)\n",
    "    return min_e,max_e\n",
    "    \n",
    "result= min_max(x)\n",
    "print(result)"
   ]
  },
  {
   "cell_type": "code",
   "execution_count": null,
   "id": "1b6901fa-9cc9-45aa-ab42-a2d16e0f4df2",
   "metadata": {},
   "outputs": [],
   "source": []
  }
 ],
 "metadata": {
  "kernelspec": {
   "display_name": "Python 3 (ipykernel)",
   "language": "python",
   "name": "python3"
  },
  "language_info": {
   "codemirror_mode": {
    "name": "ipython",
    "version": 3
   },
   "file_extension": ".py",
   "mimetype": "text/x-python",
   "name": "python",
   "nbconvert_exporter": "python",
   "pygments_lexer": "ipython3",
   "version": "3.12.4"
  }
 },
 "nbformat": 4,
 "nbformat_minor": 5
}
